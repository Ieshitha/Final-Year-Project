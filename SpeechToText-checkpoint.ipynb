{
 "cells": [
  {
   "cell_type": "code",
   "execution_count": 4,
   "id": "073fd568",
   "metadata": {},
   "outputs": [],
   "source": [
    "import librosa\n",
    "import speech_recognition as sr\n",
    "import os\n",
    "import numpy as np"
   ]
  },
  {
   "cell_type": "code",
   "execution_count": 3,
   "id": "d3d1d229",
   "metadata": {},
   "outputs": [
    {
     "name": "stdout",
     "output_type": "stream",
     "text": [
      "Collecting SpeechRecognition\n",
      "  Downloading SpeechRecognition-3.9.0-py2.py3-none-any.whl (32.8 MB)\n",
      "     ---------------------------------------- 32.8/32.8 MB 4.7 MB/s eta 0:00:00\n",
      "Requirement already satisfied: requests>=2.26.0 in c:\\users\\ieshitha wijetunge\\anaconda3\\lib\\site-packages (from SpeechRecognition) (2.28.1)\n",
      "Requirement already satisfied: certifi>=2017.4.17 in c:\\users\\ieshitha wijetunge\\anaconda3\\lib\\site-packages (from requests>=2.26.0->SpeechRecognition) (2022.9.14)\n",
      "Requirement already satisfied: charset-normalizer<3,>=2 in c:\\users\\ieshitha wijetunge\\anaconda3\\lib\\site-packages (from requests>=2.26.0->SpeechRecognition) (2.0.4)\n",
      "Requirement already satisfied: urllib3<1.27,>=1.21.1 in c:\\users\\ieshitha wijetunge\\anaconda3\\lib\\site-packages (from requests>=2.26.0->SpeechRecognition) (1.26.11)\n",
      "Requirement already satisfied: idna<4,>=2.5 in c:\\users\\ieshitha wijetunge\\anaconda3\\lib\\site-packages (from requests>=2.26.0->SpeechRecognition) (3.3)\n",
      "Installing collected packages: SpeechRecognition\n",
      "Successfully installed SpeechRecognition-3.9.0\n"
     ]
    }
   ],
   "source": [
    "!pip install SpeechRecognition"
   ]
  },
  {
   "cell_type": "code",
   "execution_count": 5,
   "id": "d442fbd5",
   "metadata": {},
   "outputs": [],
   "source": [
    "\n",
    "train_audio_path = r\"C:\\Users\\Ieshitha Wijetunge\\OneDrive\\Documents\\SEP_28k\\clips\\stuttering-clips\\SoundRep\\\\\""
   ]
  },
  {
   "cell_type": "code",
   "execution_count": 6,
   "id": "156461d5",
   "metadata": {},
   "outputs": [],
   "source": [
    "def get_file_paths(dirname):\n",
    "    file_paths = []\n",
    "    for root, directories, files in os.walk(dirname):\n",
    "        for filename in files:\n",
    "            filepath = os.path.join(root, filename)\n",
    "            file_paths.append(filepath)\n",
    "            print(\"loading files\")\n",
    "    return file_paths\n"
   ]
  },
  {
   "cell_type": "code",
   "execution_count": 13,
   "id": "aec01fb3",
   "metadata": {},
   "outputs": [],
   "source": [
    "x = []\n",
    "y = []"
   ]
  },
  {
   "cell_type": "code",
   "execution_count": null,
   "id": "80e490bd",
   "metadata": {},
   "outputs": [],
   "source": [
    "def recognize_multiple(file,indexX):\n",
    "    r = sr.Recognizer()\n",
    "    with sr.WavFile(file) as source:  # use \"test.wav\" as the audio source\n",
    "        audio = r.record(source)  # extract audio data from the file\n",
    "        print(\"In Recognize_multiple method\")\n",
    "\n",
    "        # r = sr.Recognizer()\n",
    "        # with sr.Microphone() as source:\n",
    "        #     print(\"Say something!\")\n",
    "        #     audio = r.listen(source)\n",
    "    try:\n",
    "        print(\"Transcription: \" + r.recognize_google(audio))  # recognize speech using Google Speech Recognition\n",
    "        sentence = r.recognize_google(audio)\n",
    "        tokens = list(sentence.lower().split()) \n",
    "        print(len(tokens))\n",
    "        \n",
    "\n",
    "        vocab, index = {}, 1\n",
    "        vocab['<pad>'] = 0  # add a padding token\n",
    "        \n",
    "        \n",
    "        for token in tokens:\n",
    "            if token not in vocab:\n",
    "                vocab[token] = index\n",
    "                index += 1\n",
    "        vocab_size = len(vocab)\n",
    "        print(vocab)\n",
    "\n",
    "        inverse_vocab = {index: token for token, index in vocab.items()}\n",
    "        print(inverse_vocab)\n",
    "\n",
    "        example_sequence = [vocab[word] for word in tokens]\n",
    "        print(example_sequence)\n",
    "        x.append(example_sequence)\n",
    "        X=[i+[0]*(333-len(i)) for i in x]\n",
    "        print([len(i) for i in X])\n",
    "        # print(a[indexX])\n",
    "        # print(a[1])\n",
    "        #y.append(a[indexX])\n",
    "        print(x)\n",
    "        print(indexX)\n",
    "        print (len(x))\n",
    "        print (len(y))\n",
    "\n",
    "        # print(y[indexX])\n",
    "        print(y)\n",
    "\n",
    "        return(x)\n",
    "    \n",
    "    except sr.UnknownValueError:\n",
    "        print(\"Google Speech Recognition could not understand audio\")\n",
    "    except sr.RequestError as e:  # speech is unintelligible\n",
    "        print(\"Could not request results from Google Speech Recognition service; {0}\".format(e))"
   ]
  },
  {
   "cell_type": "code",
   "execution_count": null,
   "id": "23ba39ff",
   "metadata": {},
   "outputs": [],
   "source": [
    "\n",
    "def main():\n",
    "    print(\"njfeiw\")\n",
    "    files = get_file_paths(train_audio_path)\n",
    "    indexX=0\n",
    "    for file in files:  # execute for each file\n",
    "        (filepath, ext) = os.path.splitext(file)  # get the file extension\n",
    "        file_name = os.path.basename(file)  # get the basename for writing to output file\n",
    "        print(file_name)  # only interested if extension is '.wav'\n",
    "        recognize_multiple(file,indexX)\n",
    "        indexX += 1\n",
    "          \n",
    "    \n",
    "\n",
    "\n",
    "\n",
    "if __name__ == '__main__':\n",
    "    main()"
   ]
  },
  {
   "cell_type": "code",
   "execution_count": null,
   "id": "99bcf59f",
   "metadata": {},
   "outputs": [],
   "source": []
  },
  {
   "cell_type": "code",
   "execution_count": null,
   "id": "10dc504b",
   "metadata": {},
   "outputs": [],
   "source": []
  }
 ],
 "metadata": {
  "kernelspec": {
   "display_name": "Python 3 (ipykernel)",
   "language": "python",
   "name": "python3"
  },
  "language_info": {
   "codemirror_mode": {
    "name": "ipython",
    "version": 3
   },
   "file_extension": ".py",
   "mimetype": "text/x-python",
   "name": "python",
   "nbconvert_exporter": "python",
   "pygments_lexer": "ipython3",
   "version": "3.9.13"
  }
 },
 "nbformat": 4,
 "nbformat_minor": 5
}
