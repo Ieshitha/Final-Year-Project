{
 "cells": [
  {
   "cell_type": "code",
   "execution_count": 2,
   "id": "c706e185",
   "metadata": {},
   "outputs": [
    {
     "data": {
      "text/html": [
       "<div>\n",
       "<style scoped>\n",
       "    .dataframe tbody tr th:only-of-type {\n",
       "        vertical-align: middle;\n",
       "    }\n",
       "\n",
       "    .dataframe tbody tr th {\n",
       "        vertical-align: top;\n",
       "    }\n",
       "\n",
       "    .dataframe thead th {\n",
       "        text-align: right;\n",
       "    }\n",
       "</style>\n",
       "<table border=\"1\" class=\"dataframe\">\n",
       "  <thead>\n",
       "    <tr style=\"text-align: right;\">\n",
       "      <th></th>\n",
       "      <th>Show</th>\n",
       "      <th>EpId</th>\n",
       "      <th>ClipId</th>\n",
       "      <th>Start</th>\n",
       "      <th>Stop</th>\n",
       "      <th>Unsure</th>\n",
       "      <th>PoorAudioQuality</th>\n",
       "      <th>Prolongation</th>\n",
       "      <th>Block</th>\n",
       "      <th>SoundRep</th>\n",
       "      <th>...</th>\n",
       "      <th>3</th>\n",
       "      <th>4</th>\n",
       "      <th>5</th>\n",
       "      <th>6</th>\n",
       "      <th>7</th>\n",
       "      <th>8</th>\n",
       "      <th>9</th>\n",
       "      <th>10</th>\n",
       "      <th>11</th>\n",
       "      <th>12</th>\n",
       "    </tr>\n",
       "  </thead>\n",
       "  <tbody>\n",
       "    <tr>\n",
       "      <th>0</th>\n",
       "      <td>HeStutters</td>\n",
       "      <td>0</td>\n",
       "      <td>17</td>\n",
       "      <td>6970880</td>\n",
       "      <td>7018880</td>\n",
       "      <td>0</td>\n",
       "      <td>0</td>\n",
       "      <td>0</td>\n",
       "      <td>0</td>\n",
       "      <td>0</td>\n",
       "      <td>...</td>\n",
       "      <td>14.354122</td>\n",
       "      <td>1.777423</td>\n",
       "      <td>-2.420322</td>\n",
       "      <td>-12.342792</td>\n",
       "      <td>1.071969</td>\n",
       "      <td>-9.256073</td>\n",
       "      <td>-6.607179</td>\n",
       "      <td>-0.808944</td>\n",
       "      <td>-9.527816</td>\n",
       "      <td>-5.364853</td>\n",
       "    </tr>\n",
       "    <tr>\n",
       "      <th>1</th>\n",
       "      <td>HeStutters</td>\n",
       "      <td>0</td>\n",
       "      <td>18</td>\n",
       "      <td>8215200</td>\n",
       "      <td>8263200</td>\n",
       "      <td>0</td>\n",
       "      <td>0</td>\n",
       "      <td>0</td>\n",
       "      <td>1</td>\n",
       "      <td>0</td>\n",
       "      <td>...</td>\n",
       "      <td>11.259468</td>\n",
       "      <td>-4.462043</td>\n",
       "      <td>-0.253932</td>\n",
       "      <td>-5.415998</td>\n",
       "      <td>-6.300482</td>\n",
       "      <td>-7.769227</td>\n",
       "      <td>-6.499992</td>\n",
       "      <td>-2.834178</td>\n",
       "      <td>-6.035948</td>\n",
       "      <td>-7.483030</td>\n",
       "    </tr>\n",
       "    <tr>\n",
       "      <th>2</th>\n",
       "      <td>HeStutters</td>\n",
       "      <td>0</td>\n",
       "      <td>19</td>\n",
       "      <td>9985280</td>\n",
       "      <td>10033280</td>\n",
       "      <td>0</td>\n",
       "      <td>0</td>\n",
       "      <td>1</td>\n",
       "      <td>0</td>\n",
       "      <td>0</td>\n",
       "      <td>...</td>\n",
       "      <td>-2.408337</td>\n",
       "      <td>-4.000989</td>\n",
       "      <td>1.076603</td>\n",
       "      <td>-3.904765</td>\n",
       "      <td>-3.917793</td>\n",
       "      <td>-7.314900</td>\n",
       "      <td>-5.230086</td>\n",
       "      <td>1.173894</td>\n",
       "      <td>-10.094393</td>\n",
       "      <td>-5.409697</td>\n",
       "    </tr>\n",
       "    <tr>\n",
       "      <th>3</th>\n",
       "      <td>HeStutters</td>\n",
       "      <td>0</td>\n",
       "      <td>20</td>\n",
       "      <td>11197600</td>\n",
       "      <td>11245600</td>\n",
       "      <td>0</td>\n",
       "      <td>0</td>\n",
       "      <td>0</td>\n",
       "      <td>0</td>\n",
       "      <td>0</td>\n",
       "      <td>...</td>\n",
       "      <td>22.788185</td>\n",
       "      <td>-2.626716</td>\n",
       "      <td>-5.491357</td>\n",
       "      <td>-18.113766</td>\n",
       "      <td>0.016458</td>\n",
       "      <td>-17.751234</td>\n",
       "      <td>-10.870637</td>\n",
       "      <td>-3.549485</td>\n",
       "      <td>-9.037821</td>\n",
       "      <td>-6.599054</td>\n",
       "    </tr>\n",
       "    <tr>\n",
       "      <th>4</th>\n",
       "      <td>HeStutters</td>\n",
       "      <td>0</td>\n",
       "      <td>26</td>\n",
       "      <td>3562240</td>\n",
       "      <td>3610240</td>\n",
       "      <td>0</td>\n",
       "      <td>0</td>\n",
       "      <td>0</td>\n",
       "      <td>0</td>\n",
       "      <td>0</td>\n",
       "      <td>...</td>\n",
       "      <td>31.284819</td>\n",
       "      <td>-20.774286</td>\n",
       "      <td>-5.054771</td>\n",
       "      <td>-8.849819</td>\n",
       "      <td>-4.670222</td>\n",
       "      <td>-6.783212</td>\n",
       "      <td>-8.442829</td>\n",
       "      <td>-9.905901</td>\n",
       "      <td>-7.322884</td>\n",
       "      <td>-6.587359</td>\n",
       "    </tr>\n",
       "  </tbody>\n",
       "</table>\n",
       "<p>5 rows × 31 columns</p>\n",
       "</div>"
      ],
      "text/plain": [
       "         Show  EpId  ClipId     Start      Stop  Unsure  PoorAudioQuality  \\\n",
       "0  HeStutters     0      17   6970880   7018880       0                 0   \n",
       "1  HeStutters     0      18   8215200   8263200       0                 0   \n",
       "2  HeStutters     0      19   9985280  10033280       0                 0   \n",
       "3  HeStutters     0      20  11197600  11245600       0                 0   \n",
       "4  HeStutters     0      26   3562240   3610240       0                 0   \n",
       "\n",
       "   Prolongation  Block  SoundRep  ...          3          4         5  \\\n",
       "0             0      0         0  ...  14.354122   1.777423 -2.420322   \n",
       "1             0      1         0  ...  11.259468  -4.462043 -0.253932   \n",
       "2             1      0         0  ...  -2.408337  -4.000989  1.076603   \n",
       "3             0      0         0  ...  22.788185  -2.626716 -5.491357   \n",
       "4             0      0         0  ...  31.284819 -20.774286 -5.054771   \n",
       "\n",
       "           6         7          8          9        10         11        12  \n",
       "0 -12.342792  1.071969  -9.256073  -6.607179 -0.808944  -9.527816 -5.364853  \n",
       "1  -5.415998 -6.300482  -7.769227  -6.499992 -2.834178  -6.035948 -7.483030  \n",
       "2  -3.904765 -3.917793  -7.314900  -5.230086  1.173894 -10.094393 -5.409697  \n",
       "3 -18.113766  0.016458 -17.751234 -10.870637 -3.549485  -9.037821 -6.599054  \n",
       "4  -8.849819 -4.670222  -6.783212  -8.442829 -9.905901  -7.322884 -6.587359  \n",
       "\n",
       "[5 rows x 31 columns]"
      ]
     },
     "execution_count": 2,
     "metadata": {},
     "output_type": "execute_result"
    }
   ],
   "source": [
    "#after cleaned all the data and get all the cleaned data into csv\n",
    "import pandas as pd  #Model creation for soundRepition\n",
    "df = pd.read_csv('sep28k-mfcc.csv')\n",
    "df.head()"
   ]
  },
  {
   "cell_type": "code",
   "execution_count": 3,
   "id": "48416bc8",
   "metadata": {},
   "outputs": [
    {
     "data": {
      "text/plain": [
       "(20868, 31)"
      ]
     },
     "execution_count": 3,
     "metadata": {},
     "output_type": "execute_result"
    }
   ],
   "source": [
    "df.shape"
   ]
  },
  {
   "cell_type": "code",
   "execution_count": 5,
   "id": "fa73addb",
   "metadata": {},
   "outputs": [
    {
     "data": {
      "text/plain": [
       "Index(['Show', 'EpId', 'ClipId', 'Start', 'Stop', 'Unsure', 'PoorAudioQuality',\n",
       "       'Prolongation', 'Block', 'SoundRep', 'WordRep', 'DifficultToUnderstand',\n",
       "       'Interjection', 'NoStutteredWords', 'NaturalPause', 'Music', 'NoSpeech',\n",
       "       'FileName', '0', '1', '2', '3', '4', '5', '6', '7', '8', '9', '10',\n",
       "       '11', '12'],\n",
       "      dtype='object')"
      ]
     },
     "execution_count": 5,
     "metadata": {},
     "output_type": "execute_result"
    }
   ],
   "source": [
    "df.columns"
   ]
  },
  {
   "cell_type": "code",
   "execution_count": 6,
   "id": "4b60636f",
   "metadata": {},
   "outputs": [
    {
     "data": {
      "text/plain": [
       "0    14522\n",
       "1     4254\n",
       "2     1495\n",
       "3      597\n",
       "Name: Prolongation, dtype: int64"
      ]
     },
     "execution_count": 6,
     "metadata": {},
     "output_type": "execute_result"
    }
   ],
   "source": [
    "df['Prolongation'].value_counts()"
   ]
  },
  {
   "cell_type": "code",
   "execution_count": 8,
   "id": "5abfd956",
   "metadata": {},
   "outputs": [
    {
     "data": {
      "text/plain": [
       "0    13351\n",
       "3     2847\n",
       "1     2652\n",
       "2     2018\n",
       "Name: Interjection, dtype: int64"
      ]
     },
     "execution_count": 8,
     "metadata": {},
     "output_type": "execute_result"
    }
   ],
   "source": [
    "df['Interjection'].value_counts()\n"
   ]
  },
  {
   "cell_type": "code",
   "execution_count": 9,
   "id": "ae69134b",
   "metadata": {},
   "outputs": [
    {
     "data": {
      "text/plain": [
       "0    17224\n",
       "3     1395\n",
       "1     1341\n",
       "2      908\n",
       "Name: WordRep, dtype: int64"
      ]
     },
     "execution_count": 9,
     "metadata": {},
     "output_type": "execute_result"
    }
   ],
   "source": [
    "df['WordRep'].value_counts()\n"
   ]
  },
  {
   "cell_type": "code",
   "execution_count": 10,
   "id": "e7f2ca12",
   "metadata": {},
   "outputs": [
    {
     "data": {
      "text/plain": [
       "0    17185\n",
       "1     2162\n",
       "2      946\n",
       "3      575\n",
       "Name: SoundRep, dtype: int64"
      ]
     },
     "execution_count": 10,
     "metadata": {},
     "output_type": "execute_result"
    }
   ],
   "source": [
    "df['SoundRep'].value_counts()"
   ]
  },
  {
   "cell_type": "code",
   "execution_count": 11,
   "id": "dd4e2e16",
   "metadata": {},
   "outputs": [
    {
     "data": {
      "text/plain": [
       "0        0\n",
       "1        0\n",
       "2        0\n",
       "3        0\n",
       "4        0\n",
       "        ..\n",
       "20863    0\n",
       "20864    0\n",
       "20865    0\n",
       "20866    0\n",
       "20867    0\n",
       "Name: Rep, Length: 20868, dtype: int64"
      ]
     },
     "execution_count": 11,
     "metadata": {},
     "output_type": "execute_result"
    }
   ],
   "source": [
    "df['Rep'] = df['WordRep'] + df['SoundRep']\n",
    "df['Rep']"
   ]
  },
  {
   "cell_type": "code",
   "execution_count": 12,
   "id": "b7e29d0d",
   "metadata": {},
   "outputs": [
    {
     "data": {
      "text/plain": [
       "0    14675\n",
       "1     2224\n",
       "3     2079\n",
       "2     1494\n",
       "4      323\n",
       "5       58\n",
       "6       15\n",
       "Name: Rep, dtype: int64"
      ]
     },
     "execution_count": 12,
     "metadata": {},
     "output_type": "execute_result"
    }
   ],
   "source": [
    "df['Rep'].value_counts()"
   ]
  },
  {
   "cell_type": "code",
   "execution_count": null,
   "id": "4642b459",
   "metadata": {},
   "outputs": [],
   "source": []
  }
 ],
 "metadata": {
  "kernelspec": {
   "display_name": "Python 3 (ipykernel)",
   "language": "python",
   "name": "python3"
  },
  "language_info": {
   "codemirror_mode": {
    "name": "ipython",
    "version": 3
   },
   "file_extension": ".py",
   "mimetype": "text/x-python",
   "name": "python",
   "nbconvert_exporter": "python",
   "pygments_lexer": "ipython3",
   "version": "3.9.13"
  }
 },
 "nbformat": 4,
 "nbformat_minor": 5
}
